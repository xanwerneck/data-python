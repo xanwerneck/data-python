{
 "cells": [
  {
   "cell_type": "markdown",
   "metadata": {},
   "source": [
    "# Análise de dados com Python\n",
    "## Esse treinamento apresenta algumas das principais ferramentas disponíveis na linguagem python para análise de dados. A busca dos entendimentos se passa a partir dos eixos:\n",
    "### Compreensão dos dados\n",
    "### Análise estatística dos dados\n",
    "### Operações em DataFrames\n",
    "### Análises de negócio\n",
    "### SVM como classificador para o problema da predição"
   ]
  },
  {
   "cell_type": "code",
   "execution_count": null,
   "metadata": {},
   "outputs": [],
   "source": []
  }
 ],
 "metadata": {
  "kernelspec": {
   "display_name": "Python 3",
   "language": "python",
   "name": "python3"
  },
  "language_info": {
   "codemirror_mode": {
    "name": "ipython",
    "version": 3
   },
   "file_extension": ".py",
   "mimetype": "text/x-python",
   "name": "python",
   "nbconvert_exporter": "python",
   "pygments_lexer": "ipython3",
   "version": "3.7.3"
  }
 },
 "nbformat": 4,
 "nbformat_minor": 2
}
